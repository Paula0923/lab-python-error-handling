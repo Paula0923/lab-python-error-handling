{
 "cells": [
  {
   "cell_type": "markdown",
   "id": "25d7736c-ba17-4aff-b6bb-66eba20fbf4e",
   "metadata": {},
   "source": [
    "# Lab | Error Handling"
   ]
  },
  {
   "cell_type": "markdown",
   "id": "bc99b386-7508-47a0-bcdb-d969deaf6c8b",
   "metadata": {},
   "source": [
    "## Exercise: Error Handling for Managing Customer Orders\n",
    "\n",
    "The implementation of your code for managing customer orders assumes that the user will always enter a valid input. \n",
    "\n",
    "For example, we could modify the `initialize_inventory` function to include error handling.\n",
    "   - If the user enters an invalid quantity (e.g., a negative value or a non-numeric value), display an error message and ask them to re-enter the quantity for that product.\n",
    "   - Use a try-except block to handle the error and continue prompting the user until a valid quantity is entered.\n",
    "\n",
    "```python\n",
    "# Step 1: Define the function for initializing the inventory with error handling\n",
    "def initialize_inventory(products):\n",
    "    inventory = {}\n",
    "    for product in products:\n",
    "        valid_quantity = False\n",
    "        while not valid_quantity:\n",
    "            try:\n",
    "                quantity = int(input(f\"Enter the quantity of {product}s available: \"))\n",
    "                if quantity < 0:\n",
    "                    raise ValueError(\"Invalid quantity! Please enter a non-negative value.\")\n",
    "                valid_quantity = True\n",
    "            except ValueError as error:\n",
    "                print(f\"Error: {error}\")\n",
    "        inventory[product] = quantity\n",
    "    return inventory\n",
    "\n",
    "# Or, in another way:\n",
    "\n",
    "def initialize_inventory(products):\n",
    "    inventory = {}\n",
    "    for product in products:\n",
    "        valid_input = False\n",
    "        while not valid_input:\n",
    "            try:\n",
    "                quantity = int(input(f\"Enter the quantity of {product}s available: \"))\n",
    "                if quantity >= 0:\n",
    "                    inventory[product] = quantity\n",
    "                    valid_input = True\n",
    "                else:\n",
    "                    print(\"Quantity cannot be negative. Please enter a valid quantity.\")\n",
    "            except ValueError:\n",
    "                print(\"Invalid input. Please enter a valid quantity.\")\n",
    "    return inventory\n",
    "```\n",
    "\n",
    "Let's enhance your code by implementing error handling to handle invalid inputs.\n",
    "\n",
    "Follow the steps below to complete the exercise:\n",
    "\n",
    "2. Modify the `calculate_total_price` function to include error handling.\n",
    "   - If the user enters an invalid price (e.g., a negative value or a non-numeric value), display an error message and ask them to re-enter the price for that product.\n",
    "   - Use a try-except block to handle the error and continue prompting the user until a valid price is entered.\n",
    "\n",
    "3. Modify the `get_customer_orders` function to include error handling.\n",
    "   - If the user enters an invalid number of orders (e.g., a negative value or a non-numeric value), display an error message and ask them to re-enter the number of orders.\n",
    "   - If the user enters an invalid product name (e.g., a product name that is not in the inventory), or that doesn't have stock available, display an error message and ask them to re-enter the product name. *Hint: you will need to pass inventory as a parameter*\n",
    "   - Use a try-except block to handle the error and continue prompting the user until a valid product name is entered.\n",
    "\n",
    "4. Test your code by running the program and deliberately entering invalid quantities and product names. Make sure the error handling mechanism works as expected.\n"
   ]
  },
  {
   "cell_type": "code",
   "execution_count": null,
   "id": "37530237-d249-4dca-935a-4acdaaa9edc1",
   "metadata": {},
   "outputs": [],
   "source": [
    "# Exercise 2: Modify the calculate_total_price function to include error handling.\n",
    "\n",
    "# If the user enters an invalid price (e.g., a negative value or a non-numeric value), display an error message\n",
    "# and ask them to re-enter the price for that product.\n",
    "\n",
    "# Use a try-except block to handle the error and continue prompting the user until a valid price is entered."
   ]
  },
  {
   "cell_type": "code",
   "execution_count": null,
   "id": "e69411bf-100d-4a10-8ab7-0bdca186d962",
   "metadata": {},
   "outputs": [],
   "source": [
    "def calculate_total_price():\n",
    "    done = False\n",
    "    while not done:\n",
    "        try:\n",
    "            price = input(\"Please enter a valid price for this product: \")\n",
    "            if int(price) < 0:\n",
    "                raise ValueError\n",
    "            print(f\"The price is: {price}\")\n",
    "            done = True\n",
    "        except ValueError:\n",
    "            print(\"You entered letters or a negative number, please enter a positive number.\")\n",
    "            price\n",
    "    return price"
   ]
  },
  {
   "cell_type": "code",
   "execution_count": null,
   "id": "530b13c2-5320-4c35-ae16-c2e03765523d",
   "metadata": {},
   "outputs": [],
   "source": [
    "calculate_total_price()"
   ]
  },
  {
   "cell_type": "code",
   "execution_count": null,
   "id": "6125e61e-dfa3-4017-93ac-3be505e48702",
   "metadata": {},
   "outputs": [],
   "source": [
    "# Exercise 3: Modify the get_customer_orders function to include error handling.\n",
    "\n",
    "# If the user enters an invalid number of orders (e.g., a negative value or a non-numeric value),\n",
    "# display an error message and ask them to re-enter the number of orders.\n",
    "\n",
    "# If the user enters an invalid product name (e.g., a product name that is not in the inventory), or that doesn't have stock available,\n",
    "# display an error message and ask them to re-enter the product name. Hint: you will need to pass inventory as a parameter\n",
    "\n",
    "# Use a try-except block to handle the error and continue prompting the user until a valid product name is entered."
   ]
  },
  {
   "cell_type": "code",
   "execution_count": 33,
   "id": "121deb80-4444-41dc-b8a5-bc0feed2e357",
   "metadata": {},
   "outputs": [],
   "source": [
    "def get_customer_orders(inventory):\n",
    "    \n",
    "    customer_orders = set()\n",
    "\n",
    "    status = False\n",
    "\n",
    "    while not status:\n",
    "        try:\n",
    "            number = input(\"How many products would you like to order? Please enter a positive number: \").lower()\n",
    "            if int(number) < 0:\n",
    "                raise ValueError\n",
    "            print(f\"You would like to order {number} products.\")\n",
    "            status = True\n",
    "            while len(customer_orders) < int(number):\n",
    "                order = input(f\"Please choose from this list: {inventory.keys()}\").lower()\n",
    "                if order in inventory:\n",
    "                    customer_orders.add(order)\n",
    "                else:\n",
    "                    print(\"This item is not available\")\n",
    "        except ValueError:\n",
    "            print(\"You entered a negative number or letters. Please enter a positive number\")\n",
    "    return customer_orders"
   ]
  },
  {
   "cell_type": "code",
   "execution_count": 11,
   "id": "aaaf29cd-083e-4d7f-83fc-282ccc1a7195",
   "metadata": {},
   "outputs": [],
   "source": [
    "inventory = {\"hat\": 55, \"mug\": 30, \"book\": 1, \"car\": 23, \"teddy bear\": 44, \"scarf\": 89, \"house\": 303, \"shoes\": 5}"
   ]
  },
  {
   "cell_type": "code",
   "execution_count": 41,
   "id": "d06480d6-2aa7-4a59-83e5-8fb0611f3fc2",
   "metadata": {},
   "outputs": [
    {
     "name": "stdin",
     "output_type": "stream",
     "text": [
      "How many products would you like to order? Please enter a positive number:  a\n"
     ]
    },
    {
     "name": "stdout",
     "output_type": "stream",
     "text": [
      "You entered a negative number or letters. Please enter a positive number\n"
     ]
    },
    {
     "name": "stdin",
     "output_type": "stream",
     "text": [
      "How many products would you like to order? Please enter a positive number:  -4\n"
     ]
    },
    {
     "name": "stdout",
     "output_type": "stream",
     "text": [
      "You entered a negative number or letters. Please enter a positive number\n"
     ]
    },
    {
     "name": "stdin",
     "output_type": "stream",
     "text": [
      "How many products would you like to order? Please enter a positive number:  4\n"
     ]
    },
    {
     "name": "stdout",
     "output_type": "stream",
     "text": [
      "You would like to order 4 products.\n"
     ]
    },
    {
     "name": "stdin",
     "output_type": "stream",
     "text": [
      "Please choose from this list: dict_keys(['hat', 'mug', 'book', 'car', 'teddy bear', 'scarf', 'house', 'shoes']) watch\n"
     ]
    },
    {
     "name": "stdout",
     "output_type": "stream",
     "text": [
      "This item is not available\n"
     ]
    },
    {
     "name": "stdin",
     "output_type": "stream",
     "text": [
      "Please choose from this list: dict_keys(['hat', 'mug', 'book', 'car', 'teddy bear', 'scarf', 'house', 'shoes']) 3\n"
     ]
    },
    {
     "name": "stdout",
     "output_type": "stream",
     "text": [
      "This item is not available\n"
     ]
    },
    {
     "name": "stdin",
     "output_type": "stream",
     "text": [
      "Please choose from this list: dict_keys(['hat', 'mug', 'book', 'car', 'teddy bear', 'scarf', 'house', 'shoes']) hat\n",
      "Please choose from this list: dict_keys(['hat', 'mug', 'book', 'car', 'teddy bear', 'scarf', 'house', 'shoes']) scarf\n",
      "Please choose from this list: dict_keys(['hat', 'mug', 'book', 'car', 'teddy bear', 'scarf', 'house', 'shoes']) house\n",
      "Please choose from this list: dict_keys(['hat', 'mug', 'book', 'car', 'teddy bear', 'scarf', 'house', 'shoes']) shoes\n"
     ]
    },
    {
     "data": {
      "text/plain": [
       "{'hat', 'house', 'scarf', 'shoes'}"
      ]
     },
     "execution_count": 41,
     "metadata": {},
     "output_type": "execute_result"
    }
   ],
   "source": [
    "get_customer_orders(inventory)"
   ]
  }
 ],
 "metadata": {
  "kernelspec": {
   "display_name": "Python 3 (ipykernel)",
   "language": "python",
   "name": "python3"
  },
  "language_info": {
   "codemirror_mode": {
    "name": "ipython",
    "version": 3
   },
   "file_extension": ".py",
   "mimetype": "text/x-python",
   "name": "python",
   "nbconvert_exporter": "python",
   "pygments_lexer": "ipython3",
   "version": "3.11.7"
  }
 },
 "nbformat": 4,
 "nbformat_minor": 5
}
